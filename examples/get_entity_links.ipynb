{
 "cells": [
  {
   "cell_type": "raw",
   "metadata": {},
   "source": [
    "Examples to query and scrap entity0 and entity1 relationships from musicbrainz database \n",
    "using get_entity_links() and view_links() functions from mb_queries.py script"
   ]
  },
  {
   "cell_type": "code",
   "execution_count": 1,
   "metadata": {
    "collapsed": false
   },
   "outputs": [
    {
     "name": "stdout",
     "output_type": "stream",
     "text": [
      "Succesfully connected to the musicbrainz database...\n",
      "\n"
     ]
    }
   ],
   "source": [
    "# import neccessary functions\n",
    "from mb_queries import *"
   ]
  },
  {
   "cell_type": "code",
   "execution_count": 2,
   "metadata": {
    "collapsed": true
   },
   "outputs": [],
   "source": [
    "# Let's get the entity links for the band Audioslave \n",
    "# (https://musicbrainz.org/artist/020bfbb4-05c3-4c86-b372-17825c262094)\n",
    "\n",
    "# for example, these relations would be artist-recording, artist-release_group, artist-work etc.\n",
    "\n",
    "artist_uid = '020bfbb4-05c3-4c86-b372-17825c262094'"
   ]
  },
  {
   "cell_type": "raw",
   "metadata": {},
   "source": [
    "There are a combination of relationships between nine primary entities of musicbrainz.\n",
    "\n",
    "This function queries and scrap the relationship between an entity0 and entity1 from musicbrainz database.\n",
    "\n",
    "These links are present in the l_entity0_entity1 tables and their type of links are defined in link_type tables.\n",
    "\n",
    "eg : l_artist_recording, l_recording_work, l_work_release_group etc\n",
    "\n",
    "get_entity_links(entity0_uid, entity0_name, entity1_name)"
   ]
  },
  {
   "cell_type": "code",
   "execution_count": 11,
   "metadata": {
    "collapsed": false
   },
   "outputs": [
    {
     "data": {
      "text/html": [
       "<div>\n",
       "<table border=\"1\" class=\"dataframe\">\n",
       "  <thead>\n",
       "    <tr style=\"text-align: right;\">\n",
       "      <th></th>\n",
       "      <th>artist.gid</th>\n",
       "      <th>l_recording.gid</th>\n",
       "      <th>link_type.gid</th>\n",
       "      <th>link_type_name</th>\n",
       "    </tr>\n",
       "  </thead>\n",
       "  <tbody>\n",
       "    <tr>\n",
       "      <th>0</th>\n",
       "      <td>020bfbb4-05c3-4c86-b372-17825c262094</td>\n",
       "      <td>1fbc0c99-3094-410c-8c44-a3d2b87ec423</td>\n",
       "      <td>5c0ceac3-feb4-41f0-868d-dc06f6e27fc0</td>\n",
       "      <td>producer</td>\n",
       "    </tr>\n",
       "  </tbody>\n",
       "</table>\n",
       "</div>"
      ],
      "text/plain": [
       "                             artist.gid                       l_recording.gid  \\\n",
       "0  020bfbb4-05c3-4c86-b372-17825c262094  1fbc0c99-3094-410c-8c44-a3d2b87ec423   \n",
       "\n",
       "                          link_type.gid link_type_name  \n",
       "0  5c0ceac3-feb4-41f0-868d-dc06f6e27fc0       producer  "
      ]
     },
     "execution_count": 11,
     "metadata": {},
     "output_type": "execute_result"
    }
   ],
   "source": [
    "\n",
    "\n",
    "artist_recording = get_entity_links(artist_uid,'artist','recording') # queries l_artist_recording, link, link_type tables\n",
    "\n",
    "# Let's view the scraped artist-recording links in a pandas dataframe\n",
    "view_links(artist_recording,'artist','recording')\n",
    "\n",
    "# \n",
    "# from this we get Audioslave was the producer for the recording 5c0ceac3-feb4-41f0-868d-dc06f6e27fc0"
   ]
  },
  {
   "cell_type": "code",
   "execution_count": 6,
   "metadata": {
    "collapsed": false
   },
   "outputs": [
    {
     "data": {
      "text/html": [
       "<div>\n",
       "<table border=\"1\" class=\"dataframe\">\n",
       "  <thead>\n",
       "    <tr style=\"text-align: right;\">\n",
       "      <th></th>\n",
       "      <th>artist.gid</th>\n",
       "      <th>l_work.gid</th>\n",
       "      <th>link_type.gid</th>\n",
       "      <th>link_type_name</th>\n",
       "    </tr>\n",
       "  </thead>\n",
       "  <tbody>\n",
       "    <tr>\n",
       "      <th>0</th>\n",
       "      <td>020bfbb4-05c3-4c86-b372-17825c262094</td>\n",
       "      <td>e8dc734d-27dd-4a6d-bd6e-feb4eb9c5279</td>\n",
       "      <td>d3fd781c-5894-47e2-8c12-86cc0e2c8d08</td>\n",
       "      <td>arranger</td>\n",
       "    </tr>\n",
       "  </tbody>\n",
       "</table>\n",
       "</div>"
      ],
      "text/plain": [
       "                             artist.gid                            l_work.gid  \\\n",
       "0  020bfbb4-05c3-4c86-b372-17825c262094  e8dc734d-27dd-4a6d-bd6e-feb4eb9c5279   \n",
       "\n",
       "                          link_type.gid link_type_name  \n",
       "0  d3fd781c-5894-47e2-8c12-86cc0e2c8d08       arranger  "
      ]
     },
     "execution_count": 6,
     "metadata": {},
     "output_type": "execute_result"
    }
   ],
   "source": [
    "\n",
    "\n",
    "artist_work = get_entity_links(artist_uid,'artist','work')\n",
    "\n",
    "# Let's view the scraped artist-recording links in a pandas dataframe\n",
    "view_links(artist_work,'artist','work')\n",
    "\n",
    "# https://musicbrainz.org/work/e8dc734d-27dd-4a6d-bd6e-feb4eb9c5279\n",
    "# from this we get Audioslave was a arranger for the work e8dc734d-27dd-4a6d-bd6e-feb4eb9c5279."
   ]
  },
  {
   "cell_type": "code",
   "execution_count": 9,
   "metadata": {
    "collapsed": false
   },
   "outputs": [
    {
     "data": {
      "text/html": [
       "<div>\n",
       "<table border=\"1\" class=\"dataframe\">\n",
       "  <thead>\n",
       "    <tr style=\"text-align: right;\">\n",
       "      <th></th>\n",
       "      <th>artist.gid</th>\n",
       "      <th>l_release_group.gid</th>\n",
       "      <th>link_type.gid</th>\n",
       "      <th>link_type_name</th>\n",
       "    </tr>\n",
       "  </thead>\n",
       "  <tbody>\n",
       "    <tr>\n",
       "      <th>0</th>\n",
       "      <td>020bfbb4-05c3-4c86-b372-17825c262094</td>\n",
       "      <td>98d21988-5f4e-3769-a52b-052a1c8a6716</td>\n",
       "      <td>5e2907db-49ec-4a48-9f11-dfb99d2603ff</td>\n",
       "      <td>tribute</td>\n",
       "    </tr>\n",
       "  </tbody>\n",
       "</table>\n",
       "</div>"
      ],
      "text/plain": [
       "                             artist.gid                   l_release_group.gid  \\\n",
       "0  020bfbb4-05c3-4c86-b372-17825c262094  98d21988-5f4e-3769-a52b-052a1c8a6716   \n",
       "\n",
       "                          link_type.gid link_type_name  \n",
       "0  5e2907db-49ec-4a48-9f11-dfb99d2603ff        tribute  "
      ]
     },
     "execution_count": 9,
     "metadata": {},
     "output_type": "execute_result"
    }
   ],
   "source": [
    "\n",
    "\n",
    "artist_release_group = get_entity_links(artist_uid,'artist','release_group')\n",
    "\n",
    "# Let's view the scraped artist-recording links in a pandas dataframe\n",
    "view_links(artist_release_group,'artist','release_group')\n",
    "\n",
    "#from this we get https://musicbrainz.org/release-group/98d21988-5f4e-3769-a52b-052a1c8a6716 is an tribute albumn\n",
    "# to the artist Audioslave https://musicbrainz.org/artist/020bfbb4-05c3-4c86-b372-17825c262094\n",
    " "
   ]
  },
  {
   "cell_type": "code",
   "execution_count": 7,
   "metadata": {
    "collapsed": false
   },
   "outputs": [
    {
     "name": "stdout",
     "output_type": "stream",
     "text": [
      "None\n"
     ]
    }
   ],
   "source": [
    "\n",
    "recording_uid = '1fbc0c99-3094-410c-8c44-a3d2b87ec423'\n",
    "\n",
    "recording_release_group = get_entity_links(recording_uid,'recording','release_group')\n",
    "\n",
    "print recording_release_group"
   ]
  },
  {
   "cell_type": "code",
   "execution_count": null,
   "metadata": {
    "collapsed": false
   },
   "outputs": [],
   "source": []
  },
  {
   "cell_type": "code",
   "execution_count": null,
   "metadata": {
    "collapsed": true
   },
   "outputs": [],
   "source": []
  }
 ],
 "metadata": {
  "kernelspec": {
   "display_name": "Python 2",
   "language": "python",
   "name": "python2"
  },
  "language_info": {
   "codemirror_mode": {
    "name": "ipython",
    "version": 2
   },
   "file_extension": ".py",
   "mimetype": "text/x-python",
   "name": "python",
   "nbconvert_exporter": "python",
   "pygments_lexer": "ipython2",
   "version": "2.7.13"
  }
 },
 "nbformat": 4,
 "nbformat_minor": 2
}
